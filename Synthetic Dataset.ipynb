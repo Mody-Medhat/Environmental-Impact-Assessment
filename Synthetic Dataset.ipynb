{
 "cells": [
  {
   "cell_type": "markdown",
   "id": "22ea4e09-3976-48b4-9493-df902588a91e",
   "metadata": {},
   "source": [
    "# Important Libraries "
   ]
  },
  {
   "cell_type": "code",
   "execution_count": 1,
   "id": "c8b0bf11-eb72-4ab9-aded-2dc2e99347ba",
   "metadata": {},
   "outputs": [],
   "source": [
    "import pandas as pd  ## Used for data manipulation\n",
    "import numpy as np   ## Used for numerical data"
   ]
  },
  {
   "cell_type": "markdown",
   "id": "b9e04403-0c75-4d7d-b2d7-f4cdbb978bf6",
   "metadata": {},
   "source": [
    "### Date Range"
   ]
  },
  {
   "cell_type": "code",
   "execution_count": 2,
   "id": "9354ddf2-4de4-43ba-ade2-2f7a874e0153",
   "metadata": {},
   "outputs": [],
   "source": [
    "# Define the date range\n",
    "date_range = pd.date_range(start='2020-01-01', end='2023-12-31')"
   ]
  },
  {
   "cell_type": "markdown",
   "id": "4c67b4a2-5346-4ff6-ba9b-50dfb9e748a7",
   "metadata": {},
   "source": [
    "### Generate synthetic data using `normal (Gaussian) distribution`"
   ]
  },
  {
   "cell_type": "code",
   "execution_count": 8,
   "id": "616654fd-a48e-41fa-bd0a-0e4d73e671ad",
   "metadata": {},
   "outputs": [],
   "source": [
    "# Generate synthetic data\n",
    "np.random.seed(42)\n",
    "temperature = np.random.normal(loc=20, scale=10, size=len(date_range))  \n",
    "humidity = np.random.normal(loc=60, scale=15, size=len(date_range))     \n",
    "wind_speed = np.random.normal(loc=15, scale=5, size=len(date_range))    \n",
    "aqi = np.random.normal(loc=50, scale=20, size=len(date_range))         "
   ]
  },
  {
   "cell_type": "markdown",
   "id": "bef1d809-69a8-43e4-88a1-5909f333870c",
   "metadata": {},
   "source": [
    "### Realistic Bounds"
   ]
  },
  {
   "cell_type": "code",
   "execution_count": 7,
   "id": "d741c936-2ef0-4f6b-ad88-960d87a7f800",
   "metadata": {},
   "outputs": [],
   "source": [
    "# Ensure realistic bounds\n",
    "temperature = np.clip(temperature, -30, 50)\n",
    "humidity = np.clip(humidity, 0, 100)\n",
    "wind_speed = np.clip(wind_speed, 0, 150)\n",
    "aqi = np.clip(aqi, 0, 500)"
   ]
  },
  {
   "cell_type": "markdown",
   "id": "dc06948e-04cc-415b-bd7c-960fe6d0fbd3",
   "metadata": {},
   "source": [
    "### Impact Score "
   ]
  },
  {
   "cell_type": "code",
   "execution_count": 9,
   "id": "c05e931e-9935-4657-8d90-d602be59bd1e",
   "metadata": {},
   "outputs": [],
   "source": [
    "# Calculate Impact Score \n",
    "impact_score = (temperature - 20)**2 + (humidity - 60)**2 + (wind_speed - 15)**2 + (aqi - 50)**2\n",
    "impact_score = np.clip(impact_score, 0, 1000)"
   ]
  },
  {
   "cell_type": "markdown",
   "id": "db2eef77-a29a-4ae9-86a4-b29b0fcd628b",
   "metadata": {},
   "source": [
    "### DataFrame"
   ]
  },
  {
   "cell_type": "code",
   "execution_count": 10,
   "id": "72b01f25-219c-48f6-a979-537310f5e03b",
   "metadata": {},
   "outputs": [],
   "source": [
    "# Create the DataFrame\n",
    "environmental_data = pd.DataFrame({\n",
    "    'Date': date_range,\n",
    "    'Temperature (°C)': temperature,\n",
    "    'Humidity (%)': humidity,\n",
    "    'Wind Speed (km/h)': wind_speed,\n",
    "    'Air Quality Index (AQI)': aqi,\n",
    "    'Impact Score': impact_score\n",
    "})"
   ]
  },
  {
   "cell_type": "markdown",
   "id": "91d85df0-5d5b-42b2-ac98-d38741f8f707",
   "metadata": {},
   "source": [
    "### Add Some Null Values"
   ]
  },
  {
   "cell_type": "code",
   "execution_count": 12,
   "id": "d4096573-b27a-4c42-9cb3-beb25b938fbb",
   "metadata": {},
   "outputs": [],
   "source": [
    "null_percentage = 0.05  ## 5%\n",
    "for column in ['Temperature (°C)', 'Humidity (%)', 'Wind Speed (km/h)', 'Air Quality Index (AQI)', 'Impact Score']:\n",
    "    num_nulls = int(null_percentage * len(environmental_data))\n",
    "    null_indices = np.random.choice(environmental_data.index, num_nulls, replace=False)\n",
    "    environmental_data.loc[null_indices, column] = np.nan"
   ]
  },
  {
   "cell_type": "markdown",
   "id": "6f2b597f-3e7a-4abb-b815-c8915b9b751e",
   "metadata": {},
   "source": [
    "### Save Data In `CSV File`"
   ]
  },
  {
   "cell_type": "code",
   "execution_count": 14,
   "id": "123a9ab9-7583-495a-b117-e68aaeae7517",
   "metadata": {},
   "outputs": [],
   "source": [
    "environmental_data.to_csv('environmental_data.csv', index = False)"
   ]
  },
  {
   "cell_type": "code",
   "execution_count": 15,
   "id": "3cd994a8-526c-4883-b994-f1637a832f59",
   "metadata": {},
   "outputs": [
    {
     "data": {
      "text/html": [
       "<div>\n",
       "<style scoped>\n",
       "    .dataframe tbody tr th:only-of-type {\n",
       "        vertical-align: middle;\n",
       "    }\n",
       "\n",
       "    .dataframe tbody tr th {\n",
       "        vertical-align: top;\n",
       "    }\n",
       "\n",
       "    .dataframe thead th {\n",
       "        text-align: right;\n",
       "    }\n",
       "</style>\n",
       "<table border=\"1\" class=\"dataframe\">\n",
       "  <thead>\n",
       "    <tr style=\"text-align: right;\">\n",
       "      <th></th>\n",
       "      <th>Date</th>\n",
       "      <th>Temperature (°C)</th>\n",
       "      <th>Humidity (%)</th>\n",
       "      <th>Wind Speed (km/h)</th>\n",
       "      <th>Air Quality Index (AQI)</th>\n",
       "      <th>Impact Score</th>\n",
       "    </tr>\n",
       "  </thead>\n",
       "  <tbody>\n",
       "    <tr>\n",
       "      <th>0</th>\n",
       "      <td>2020-01-01</td>\n",
       "      <td>24.967142</td>\n",
       "      <td>41.635526</td>\n",
       "      <td>14.026514</td>\n",
       "      <td>53.958333</td>\n",
       "      <td>378.542462</td>\n",
       "    </tr>\n",
       "    <tr>\n",
       "      <th>1</th>\n",
       "      <td>2020-01-02</td>\n",
       "      <td>NaN</td>\n",
       "      <td>56.864651</td>\n",
       "      <td>14.679059</td>\n",
       "      <td>37.850554</td>\n",
       "      <td>159.454149</td>\n",
       "    </tr>\n",
       "    <tr>\n",
       "      <th>2</th>\n",
       "      <td>2020-01-03</td>\n",
       "      <td>26.476885</td>\n",
       "      <td>47.242193</td>\n",
       "      <td>15.458762</td>\n",
       "      <td>41.912760</td>\n",
       "      <td>NaN</td>\n",
       "    </tr>\n",
       "    <tr>\n",
       "      <th>3</th>\n",
       "      <td>2020-01-04</td>\n",
       "      <td>NaN</td>\n",
       "      <td>51.292148</td>\n",
       "      <td>16.261202</td>\n",
       "      <td>36.274417</td>\n",
       "      <td>497.770928</td>\n",
       "    </tr>\n",
       "    <tr>\n",
       "      <th>4</th>\n",
       "      <td>2020-01-05</td>\n",
       "      <td>17.658466</td>\n",
       "      <td>68.828676</td>\n",
       "      <td>14.418855</td>\n",
       "      <td>21.346574</td>\n",
       "      <td>904.784841</td>\n",
       "    </tr>\n",
       "    <tr>\n",
       "      <th>5</th>\n",
       "      <td>2020-01-06</td>\n",
       "      <td>17.658630</td>\n",
       "      <td>85.048568</td>\n",
       "      <td>16.073566</td>\n",
       "      <td>NaN</td>\n",
       "      <td>NaN</td>\n",
       "    </tr>\n",
       "    <tr>\n",
       "      <th>6</th>\n",
       "      <td>2020-01-07</td>\n",
       "      <td>35.792128</td>\n",
       "      <td>65.920073</td>\n",
       "      <td>22.890590</td>\n",
       "      <td>NaN</td>\n",
       "      <td>483.730163</td>\n",
       "    </tr>\n",
       "    <tr>\n",
       "      <th>7</th>\n",
       "      <td>2020-01-08</td>\n",
       "      <td>27.674347</td>\n",
       "      <td>42.061754</td>\n",
       "      <td>19.927248</td>\n",
       "      <td>60.297672</td>\n",
       "      <td>510.996097</td>\n",
       "    </tr>\n",
       "    <tr>\n",
       "      <th>8</th>\n",
       "      <td>2020-01-09</td>\n",
       "      <td>15.305256</td>\n",
       "      <td>66.669040</td>\n",
       "      <td>19.345773</td>\n",
       "      <td>66.398505</td>\n",
       "      <td>354.313425</td>\n",
       "    </tr>\n",
       "    <tr>\n",
       "      <th>9</th>\n",
       "      <td>2020-01-10</td>\n",
       "      <td>25.425600</td>\n",
       "      <td>77.949472</td>\n",
       "      <td>12.722302</td>\n",
       "      <td>56.486804</td>\n",
       "      <td>398.887231</td>\n",
       "    </tr>\n",
       "  </tbody>\n",
       "</table>\n",
       "</div>"
      ],
      "text/plain": [
       "        Date  Temperature (°C)  Humidity (%)  Wind Speed (km/h)  \\\n",
       "0 2020-01-01         24.967142     41.635526          14.026514   \n",
       "1 2020-01-02               NaN     56.864651          14.679059   \n",
       "2 2020-01-03         26.476885     47.242193          15.458762   \n",
       "3 2020-01-04               NaN     51.292148          16.261202   \n",
       "4 2020-01-05         17.658466     68.828676          14.418855   \n",
       "5 2020-01-06         17.658630     85.048568          16.073566   \n",
       "6 2020-01-07         35.792128     65.920073          22.890590   \n",
       "7 2020-01-08         27.674347     42.061754          19.927248   \n",
       "8 2020-01-09         15.305256     66.669040          19.345773   \n",
       "9 2020-01-10         25.425600     77.949472          12.722302   \n",
       "\n",
       "   Air Quality Index (AQI)  Impact Score  \n",
       "0                53.958333    378.542462  \n",
       "1                37.850554    159.454149  \n",
       "2                41.912760           NaN  \n",
       "3                36.274417    497.770928  \n",
       "4                21.346574    904.784841  \n",
       "5                      NaN           NaN  \n",
       "6                      NaN    483.730163  \n",
       "7                60.297672    510.996097  \n",
       "8                66.398505    354.313425  \n",
       "9                56.486804    398.887231  "
      ]
     },
     "execution_count": 15,
     "metadata": {},
     "output_type": "execute_result"
    }
   ],
   "source": [
    "# Display the first few rows of the dataset\n",
    "environmental_data.head(10)"
   ]
  },
  {
   "cell_type": "code",
   "execution_count": 16,
   "id": "20bdae67-9bc9-458a-a16b-8502282a8dab",
   "metadata": {},
   "outputs": [
    {
     "data": {
      "text/plain": [
       "(1461, 6)"
      ]
     },
     "execution_count": 16,
     "metadata": {},
     "output_type": "execute_result"
    }
   ],
   "source": [
    "environmental_data.shape"
   ]
  },
  {
   "cell_type": "code",
   "execution_count": null,
   "id": "a73459d8-e849-4e23-9e52-1c9756237183",
   "metadata": {},
   "outputs": [],
   "source": []
  }
 ],
 "metadata": {
  "kernelspec": {
   "display_name": "Python 3 (ipykernel)",
   "language": "python",
   "name": "python3"
  },
  "language_info": {
   "codemirror_mode": {
    "name": "ipython",
    "version": 3
   },
   "file_extension": ".py",
   "mimetype": "text/x-python",
   "name": "python",
   "nbconvert_exporter": "python",
   "pygments_lexer": "ipython3",
   "version": "3.11.7"
  }
 },
 "nbformat": 4,
 "nbformat_minor": 5
}
